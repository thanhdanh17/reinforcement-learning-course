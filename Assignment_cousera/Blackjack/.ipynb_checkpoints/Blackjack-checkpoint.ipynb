{
 "cells": [
  {
   "cell_type": "markdown",
   "metadata": {
    "deletable": false,
    "editable": false,
    "nbgrader": {
     "cell_type": "markdown",
     "checksum": "e0130ed294a9f2f2fea6b36d8e09b0ab",
     "grade": false,
     "grade_id": "cell-2a029434ff5a1577",
     "locked": true,
     "schema_version": 3,
     "solution": false,
     "task": false
    }
   },
   "source": [
    "# Practice Assignment 1 - Blackjack"
   ]
  },
  {
   "cell_type": "markdown",
   "metadata": {
    "deletable": false,
    "editable": false,
    "nbgrader": {
     "cell_type": "markdown",
     "checksum": "92fa64b64d584441e77d4313f61e0aad",
     "grade": false,
     "grade_id": "cell-e4ebd9f4546c8198",
     "locked": true,
     "schema_version": 3,
     "solution": false,
     "task": false
    }
   },
   "source": [
    "Welcome to Course 2 Practice Assignment 1. In this notebook you will see the optimal policy for Blackjack with different deal policies.\n",
    "\n",
    "In a previous video (Solving the Blackjack Example) we described the optimal policy for Blackjack when the dealer sticks at 17. How would the optimal policy change if the dealer's policy were different? Would the optimal agent play more conservatively?\n",
    "\n",
    "We ran experiments similar to Example 5.3 in the textbook but with different dealer policies. You can change dealer_sticks in the cell below to another number between 12 and 20 and see the optimal policy against that dealer.\n",
    "\n",
    "This notebook is not graded. You do not need to write down any answers."
   ]
  },
  {
   "cell_type": "code",
   "execution_count": null,
   "metadata": {
    "deletable": false,
    "nbgrader": {
     "cell_type": "code",
     "checksum": "904dbc9f41d16cf47f0f78ba72eecb79",
     "grade": false,
     "grade_id": "cell-6ab4a2b2789204ab",
     "locked": false,
     "schema_version": 3,
     "solution": true,
     "task": false
    }
   },
   "outputs": [],
   "source": [
    "# try modifying this variable for values between 11 and 21 to see the value of different policies\n",
    "dealer_sticks = 12\n",
    "# You don't really need to do anything here\n",
    "# your code here\n",
    "\n",
    "\n",
    "from IPython.display import Image \n",
    "assert 11<dealer_sticks<21, 'Please provide a number between 12 and 20.'\n",
    "Image(filename='plots/plt_'+str(dealer_sticks)+'.png')"
   ]
  },
  {
   "cell_type": "code",
   "execution_count": null,
   "metadata": {
    "deletable": false,
    "editable": false,
    "nbgrader": {
     "cell_type": "code",
     "checksum": "147be7b969980f42aca7454f89b915ed",
     "grade": true,
     "grade_id": "cell-600f68d5431a5cc7",
     "locked": true,
     "points": 1,
     "schema_version": 3,
     "solution": false,
     "task": false
    }
   },
   "outputs": [],
   "source": [
    "print('run me to get your completion points :)')"
   ]
  }
 ],
 "metadata": {
  "kernelspec": {
   "display_name": "Python 3",
   "language": "python",
   "name": "python3"
  },
  "language_info": {
   "codemirror_mode": {
    "name": "ipython",
    "version": 3
   },
   "file_extension": ".py",
   "mimetype": "text/x-python",
   "name": "python",
   "nbconvert_exporter": "python",
   "pygments_lexer": "ipython3",
   "version": "3.7.6"
  }
 },
 "nbformat": 4,
 "nbformat_minor": 2
}
